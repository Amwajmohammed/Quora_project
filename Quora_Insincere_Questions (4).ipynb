{
 "cells": [
  {
   "cell_type": "markdown",
   "id": "b292c0dd",
   "metadata": {},
   "source": [
    "# Step 0: Import Libraries"
   ]
  },
  {
   "cell_type": "code",
   "execution_count": 27,
   "id": "b608a5dd",
   "metadata": {},
   "outputs": [],
   "source": [
    "import numpy as np\n",
    "import pandas as pd\n",
    "import seaborn as sns\n",
    "from sklearn.linear_model import LogisticRegression\n",
    "import matplotlib.pyplot as plt\n",
    "import warnings\n",
    "warnings.simplefilter(action='ignore', category=FutureWarning)\n",
    "warnings.simplefilter(action='ignore', category=UserWarning)\n",
    "sns.set(style=\"white\")\n",
    "%matplotlib inline"
   ]
  },
  {
   "cell_type": "markdown",
   "id": "e675a8dc",
   "metadata": {},
   "source": [
    "# Step 1: Read the Dataset"
   ]
  },
  {
   "cell_type": "code",
   "execution_count": 28,
   "id": "b3f82f77",
   "metadata": {},
   "outputs": [],
   "source": [
    "df = pd.read_csv(\"clean_lem_stemmed_train_data.csv\")"
   ]
  },
  {
   "cell_type": "code",
   "execution_count": 109,
   "id": "1bd480eb",
   "metadata": {},
   "outputs": [
    {
     "data": {
      "text/html": [
       "<div>\n",
       "<style scoped>\n",
       "    .dataframe tbody tr th:only-of-type {\n",
       "        vertical-align: middle;\n",
       "    }\n",
       "\n",
       "    .dataframe tbody tr th {\n",
       "        vertical-align: top;\n",
       "    }\n",
       "\n",
       "    .dataframe thead th {\n",
       "        text-align: right;\n",
       "    }\n",
       "</style>\n",
       "<table border=\"1\" class=\"dataframe\">\n",
       "  <thead>\n",
       "    <tr style=\"text-align: right;\">\n",
       "      <th></th>\n",
       "      <th>Unnamed: 0</th>\n",
       "      <th>qid</th>\n",
       "      <th>question_text</th>\n",
       "      <th>target</th>\n",
       "    </tr>\n",
       "  </thead>\n",
       "  <tbody>\n",
       "    <tr>\n",
       "      <th>0</th>\n",
       "      <td>0</td>\n",
       "      <td>00002165364db923c7e6</td>\n",
       "      <td>how did quebec nationalists see their province...</td>\n",
       "      <td>0</td>\n",
       "    </tr>\n",
       "    <tr>\n",
       "      <th>1</th>\n",
       "      <td>1</td>\n",
       "      <td>000032939017120e6e44</td>\n",
       "      <td>do you have an adopted dog how would you encou...</td>\n",
       "      <td>0</td>\n",
       "    </tr>\n",
       "    <tr>\n",
       "      <th>2</th>\n",
       "      <td>2</td>\n",
       "      <td>0000412ca6e4628ce2cf</td>\n",
       "      <td>why does velocity affect time does velocity af...</td>\n",
       "      <td>0</td>\n",
       "    </tr>\n",
       "    <tr>\n",
       "      <th>3</th>\n",
       "      <td>3</td>\n",
       "      <td>000042bf85aa498cd78e</td>\n",
       "      <td>how did otto von guericke used the magdeburg h...</td>\n",
       "      <td>0</td>\n",
       "    </tr>\n",
       "    <tr>\n",
       "      <th>4</th>\n",
       "      <td>4</td>\n",
       "      <td>0000455dfa3e01eae3af</td>\n",
       "      <td>can i convert montra helicon d to a mountain b...</td>\n",
       "      <td>0</td>\n",
       "    </tr>\n",
       "  </tbody>\n",
       "</table>\n",
       "</div>"
      ],
      "text/plain": [
       "   Unnamed: 0                   qid  \\\n",
       "0           0  00002165364db923c7e6   \n",
       "1           1  000032939017120e6e44   \n",
       "2           2  0000412ca6e4628ce2cf   \n",
       "3           3  000042bf85aa498cd78e   \n",
       "4           4  0000455dfa3e01eae3af   \n",
       "\n",
       "                                       question_text  target  \n",
       "0  how did quebec nationalists see their province...       0  \n",
       "1  do you have an adopted dog how would you encou...       0  \n",
       "2  why does velocity affect time does velocity af...       0  \n",
       "3  how did otto von guericke used the magdeburg h...       0  \n",
       "4  can i convert montra helicon d to a mountain b...       0  "
      ]
     },
     "execution_count": 109,
     "metadata": {},
     "output_type": "execute_result"
    }
   ],
   "source": [
    "df.head()"
   ]
  },
  {
   "cell_type": "code",
   "execution_count": 68,
   "id": "bf9c3b6a",
   "metadata": {},
   "outputs": [
    {
     "name": "stdout",
     "output_type": "stream",
     "text": [
      "<class 'pandas.core.frame.DataFrame'>\n",
      "RangeIndex: 1306122 entries, 0 to 1306121\n",
      "Data columns (total 4 columns):\n",
      " #   Column         Non-Null Count    Dtype \n",
      "---  ------         --------------    ----- \n",
      " 0   Unnamed: 0     1306122 non-null  int64 \n",
      " 1   qid            1306122 non-null  object\n",
      " 2   question_text  1306121 non-null  object\n",
      " 3   target         1306122 non-null  int64 \n",
      "dtypes: int64(2), object(2)\n",
      "memory usage: 39.9+ MB\n"
     ]
    }
   ],
   "source": [
    "df.info()"
   ]
  },
  {
   "cell_type": "markdown",
   "id": "b25e067a",
   "metadata": {},
   "source": [
    "# Step 2: Clean Data"
   ]
  },
  {
   "cell_type": "markdown",
   "id": "5ae3f45d",
   "metadata": {},
   "source": [
    "# A. Rows:\n",
    "- Check missing\n",
    "- Check Null Value\n",
    "- Check Formats\n",
    "- Check Duplicates\n",
    "- Check Data Ranges\n",
    "- Clean text (remove numbers, punctuations,and convert it to lowercase"
   ]
  },
  {
   "cell_type": "code",
   "execution_count": 111,
   "id": "68ee55ee",
   "metadata": {},
   "outputs": [
    {
     "data": {
      "text/plain": [
       "Unnamed: 0       0\n",
       "qid              0\n",
       "question_text    1\n",
       "target           0\n",
       "dtype: int64"
      ]
     },
     "execution_count": 111,
     "metadata": {},
     "output_type": "execute_result"
    }
   ],
   "source": [
    "# Check total number of missing cells\n",
    "df.isna().sum()"
   ]
  },
  {
   "cell_type": "code",
   "execution_count": 112,
   "id": "5634be51",
   "metadata": {},
   "outputs": [
    {
     "data": {
      "text/plain": [
       "Unnamed: 0       0.00000\n",
       "qid              0.00000\n",
       "question_text    0.00008\n",
       "target           0.00000\n",
       "dtype: float64"
      ]
     },
     "execution_count": 112,
     "metadata": {},
     "output_type": "execute_result"
    }
   ],
   "source": [
    "# Check Missing Percentage in each column\n",
    "round((df.isna().sum() / 1306122)* 100, 5)"
   ]
  },
  {
   "cell_type": "code",
   "execution_count": 29,
   "id": "541ee7ab",
   "metadata": {},
   "outputs": [
    {
     "data": {
      "text/plain": [
       "Unnamed: 0       0\n",
       "qid              0\n",
       "question_text    1\n",
       "target           0\n",
       "dtype: int64"
      ]
     },
     "execution_count": 29,
     "metadata": {},
     "output_type": "execute_result"
    }
   ],
   "source": [
    "# double check for missing \n",
    "df.replace([\"#\",\"*\",'NA','N/A','?',''],np.nan).isna().sum()"
   ]
  },
  {
   "cell_type": "code",
   "execution_count": 114,
   "id": "9764567c",
   "metadata": {},
   "outputs": [
    {
     "data": {
      "text/plain": [
       "1"
      ]
     },
     "execution_count": 114,
     "metadata": {},
     "output_type": "execute_result"
    }
   ],
   "source": [
    "df.question_text.isna().sum()"
   ]
  },
  {
   "cell_type": "code",
   "execution_count": 115,
   "id": "4a72565c",
   "metadata": {},
   "outputs": [
    {
     "data": {
      "text/html": [
       "<div>\n",
       "<style scoped>\n",
       "    .dataframe tbody tr th:only-of-type {\n",
       "        vertical-align: middle;\n",
       "    }\n",
       "\n",
       "    .dataframe tbody tr th {\n",
       "        vertical-align: top;\n",
       "    }\n",
       "\n",
       "    .dataframe thead th {\n",
       "        text-align: right;\n",
       "    }\n",
       "</style>\n",
       "<table border=\"1\" class=\"dataframe\">\n",
       "  <thead>\n",
       "    <tr style=\"text-align: right;\">\n",
       "      <th></th>\n",
       "      <th>Unnamed: 0</th>\n",
       "      <th>qid</th>\n",
       "      <th>question_text</th>\n",
       "      <th>target</th>\n",
       "    </tr>\n",
       "  </thead>\n",
       "  <tbody>\n",
       "    <tr>\n",
       "      <th>420816</th>\n",
       "      <td>420816</td>\n",
       "      <td>527aac2ce6f12f789fe5</td>\n",
       "      <td>NaN</td>\n",
       "      <td>1</td>\n",
       "    </tr>\n",
       "  </tbody>\n",
       "</table>\n",
       "</div>"
      ],
      "text/plain": [
       "        Unnamed: 0                   qid question_text  target\n",
       "420816      420816  527aac2ce6f12f789fe5           NaN       1"
      ]
     },
     "execution_count": 115,
     "metadata": {},
     "output_type": "execute_result"
    }
   ],
   "source": [
    "# We found the missing value in row number 420816 \n",
    "null_data = df[df.isna().any(axis=1)]\n",
    "null_data "
   ]
  },
  {
   "cell_type": "code",
   "execution_count": 116,
   "id": "89a25054",
   "metadata": {},
   "outputs": [
    {
     "data": {
      "text/html": [
       "<div>\n",
       "<style scoped>\n",
       "    .dataframe tbody tr th:only-of-type {\n",
       "        vertical-align: middle;\n",
       "    }\n",
       "\n",
       "    .dataframe tbody tr th {\n",
       "        vertical-align: top;\n",
       "    }\n",
       "\n",
       "    .dataframe thead th {\n",
       "        text-align: right;\n",
       "    }\n",
       "</style>\n",
       "<table border=\"1\" class=\"dataframe\">\n",
       "  <thead>\n",
       "    <tr style=\"text-align: right;\">\n",
       "      <th></th>\n",
       "      <th>Unnamed: 0</th>\n",
       "      <th>qid</th>\n",
       "      <th>question_text</th>\n",
       "      <th>target</th>\n",
       "    </tr>\n",
       "  </thead>\n",
       "  <tbody>\n",
       "    <tr>\n",
       "      <th>420816</th>\n",
       "      <td>420816</td>\n",
       "      <td>527aac2ce6f12f789fe5</td>\n",
       "      <td>NaN</td>\n",
       "      <td>1</td>\n",
       "    </tr>\n",
       "  </tbody>\n",
       "</table>\n",
       "</div>"
      ],
      "text/plain": [
       "        Unnamed: 0                   qid question_text  target\n",
       "420816      420816  527aac2ce6f12f789fe5           NaN       1"
      ]
     },
     "execution_count": 116,
     "metadata": {},
     "output_type": "execute_result"
    }
   ],
   "source": [
    "# We found the null value in row number 420816 \n",
    "null_data = df[df.isnull().any(axis=1)]\n",
    "null_data "
   ]
  },
  {
   "cell_type": "code",
   "execution_count": 30,
   "id": "ccdf9e80",
   "metadata": {},
   "outputs": [
    {
     "data": {
      "text/html": [
       "<div>\n",
       "<style scoped>\n",
       "    .dataframe tbody tr th:only-of-type {\n",
       "        vertical-align: middle;\n",
       "    }\n",
       "\n",
       "    .dataframe tbody tr th {\n",
       "        vertical-align: top;\n",
       "    }\n",
       "\n",
       "    .dataframe thead th {\n",
       "        text-align: right;\n",
       "    }\n",
       "</style>\n",
       "<table border=\"1\" class=\"dataframe\">\n",
       "  <thead>\n",
       "    <tr style=\"text-align: right;\">\n",
       "      <th></th>\n",
       "      <th>Unnamed: 0</th>\n",
       "      <th>qid</th>\n",
       "      <th>question_text</th>\n",
       "      <th>target</th>\n",
       "    </tr>\n",
       "  </thead>\n",
       "  <tbody>\n",
       "    <tr>\n",
       "      <th>0</th>\n",
       "      <td>0</td>\n",
       "      <td>00002165364db923c7e6</td>\n",
       "      <td>how did quebec nationalists see their province...</td>\n",
       "      <td>0</td>\n",
       "    </tr>\n",
       "    <tr>\n",
       "      <th>1</th>\n",
       "      <td>1</td>\n",
       "      <td>000032939017120e6e44</td>\n",
       "      <td>do you have an adopted dog how would you encou...</td>\n",
       "      <td>0</td>\n",
       "    </tr>\n",
       "    <tr>\n",
       "      <th>2</th>\n",
       "      <td>2</td>\n",
       "      <td>0000412ca6e4628ce2cf</td>\n",
       "      <td>why does velocity affect time does velocity af...</td>\n",
       "      <td>0</td>\n",
       "    </tr>\n",
       "    <tr>\n",
       "      <th>3</th>\n",
       "      <td>3</td>\n",
       "      <td>000042bf85aa498cd78e</td>\n",
       "      <td>how did otto von guericke used the magdeburg h...</td>\n",
       "      <td>0</td>\n",
       "    </tr>\n",
       "    <tr>\n",
       "      <th>4</th>\n",
       "      <td>4</td>\n",
       "      <td>0000455dfa3e01eae3af</td>\n",
       "      <td>can i convert montra helicon d to a mountain b...</td>\n",
       "      <td>0</td>\n",
       "    </tr>\n",
       "    <tr>\n",
       "      <th>...</th>\n",
       "      <td>...</td>\n",
       "      <td>...</td>\n",
       "      <td>...</td>\n",
       "      <td>...</td>\n",
       "    </tr>\n",
       "    <tr>\n",
       "      <th>1306117</th>\n",
       "      <td>1306117</td>\n",
       "      <td>ffffcc4e2331aaf1e41e</td>\n",
       "      <td>what other technical skills do you need as a c...</td>\n",
       "      <td>0</td>\n",
       "    </tr>\n",
       "    <tr>\n",
       "      <th>1306118</th>\n",
       "      <td>1306118</td>\n",
       "      <td>ffffd431801e5a2f4861</td>\n",
       "      <td>does ms in ece have good job prospects in usa ...</td>\n",
       "      <td>0</td>\n",
       "    </tr>\n",
       "    <tr>\n",
       "      <th>1306119</th>\n",
       "      <td>1306119</td>\n",
       "      <td>ffffd48fb36b63db010c</td>\n",
       "      <td>is foam insulation toxic</td>\n",
       "      <td>0</td>\n",
       "    </tr>\n",
       "    <tr>\n",
       "      <th>1306120</th>\n",
       "      <td>1306120</td>\n",
       "      <td>ffffec519fa37cf60c78</td>\n",
       "      <td>how can one start a research project based on ...</td>\n",
       "      <td>0</td>\n",
       "    </tr>\n",
       "    <tr>\n",
       "      <th>1306121</th>\n",
       "      <td>1306121</td>\n",
       "      <td>ffffed09fedb5088744a</td>\n",
       "      <td>who wins in a battle between a wolverine and a...</td>\n",
       "      <td>0</td>\n",
       "    </tr>\n",
       "  </tbody>\n",
       "</table>\n",
       "<p>1306121 rows × 4 columns</p>\n",
       "</div>"
      ],
      "text/plain": [
       "         Unnamed: 0                   qid  \\\n",
       "0                 0  00002165364db923c7e6   \n",
       "1                 1  000032939017120e6e44   \n",
       "2                 2  0000412ca6e4628ce2cf   \n",
       "3                 3  000042bf85aa498cd78e   \n",
       "4                 4  0000455dfa3e01eae3af   \n",
       "...             ...                   ...   \n",
       "1306117     1306117  ffffcc4e2331aaf1e41e   \n",
       "1306118     1306118  ffffd431801e5a2f4861   \n",
       "1306119     1306119  ffffd48fb36b63db010c   \n",
       "1306120     1306120  ffffec519fa37cf60c78   \n",
       "1306121     1306121  ffffed09fedb5088744a   \n",
       "\n",
       "                                             question_text  target  \n",
       "0        how did quebec nationalists see their province...       0  \n",
       "1        do you have an adopted dog how would you encou...       0  \n",
       "2        why does velocity affect time does velocity af...       0  \n",
       "3        how did otto von guericke used the magdeburg h...       0  \n",
       "4        can i convert montra helicon d to a mountain b...       0  \n",
       "...                                                    ...     ...  \n",
       "1306117  what other technical skills do you need as a c...       0  \n",
       "1306118  does ms in ece have good job prospects in usa ...       0  \n",
       "1306119                           is foam insulation toxic       0  \n",
       "1306120  how can one start a research project based on ...       0  \n",
       "1306121  who wins in a battle between a wolverine and a...       0  \n",
       "\n",
       "[1306121 rows x 4 columns]"
      ]
     },
     "execution_count": 30,
     "metadata": {},
     "output_type": "execute_result"
    }
   ],
   "source": [
    "# We create null_data to remove the missing value from our dataset\n",
    "null_data = df.drop(labels=420816, axis=0)\n",
    "null_data"
   ]
  },
  {
   "cell_type": "code",
   "execution_count": 31,
   "id": "0140ad52",
   "metadata": {},
   "outputs": [
    {
     "data": {
      "text/plain": [
       "0"
      ]
     },
     "execution_count": 31,
     "metadata": {},
     "output_type": "execute_result"
    }
   ],
   "source": [
    "null_data.question_text.isna().sum()"
   ]
  },
  {
   "cell_type": "code",
   "execution_count": 119,
   "id": "c7267226",
   "metadata": {},
   "outputs": [
    {
     "data": {
      "text/plain": [
       "Unnamed: 0       0\n",
       "qid              0\n",
       "question_text    0\n",
       "target           0\n",
       "dtype: int64"
      ]
     },
     "execution_count": 119,
     "metadata": {},
     "output_type": "execute_result"
    }
   ],
   "source": [
    "# check for missing again\n",
    "null_data.isna().sum()"
   ]
  },
  {
   "cell_type": "code",
   "execution_count": 120,
   "id": "27ffa317",
   "metadata": {},
   "outputs": [
    {
     "data": {
      "text/plain": [
       "Unnamed: 0        int64\n",
       "qid              object\n",
       "question_text    object\n",
       "target            int64\n",
       "dtype: object"
      ]
     },
     "execution_count": 120,
     "metadata": {},
     "output_type": "execute_result"
    }
   ],
   "source": [
    "# check format\n",
    "null_data.dtypes"
   ]
  },
  {
   "cell_type": "code",
   "execution_count": 121,
   "id": "04638730",
   "metadata": {},
   "outputs": [
    {
     "data": {
      "text/plain": [
       "0"
      ]
     },
     "execution_count": 121,
     "metadata": {},
     "output_type": "execute_result"
    }
   ],
   "source": [
    "# Check Duplicates\n",
    "null_data.duplicated().sum()"
   ]
  },
  {
   "cell_type": "code",
   "execution_count": 122,
   "id": "3a7611bb",
   "metadata": {},
   "outputs": [
    {
     "data": {
      "text/plain": [
       "<bound method NDFrame.describe of          Unnamed: 0                   qid  \\\n",
       "0                 0  00002165364db923c7e6   \n",
       "1                 1  000032939017120e6e44   \n",
       "2                 2  0000412ca6e4628ce2cf   \n",
       "3                 3  000042bf85aa498cd78e   \n",
       "4                 4  0000455dfa3e01eae3af   \n",
       "...             ...                   ...   \n",
       "1306117     1306117  ffffcc4e2331aaf1e41e   \n",
       "1306118     1306118  ffffd431801e5a2f4861   \n",
       "1306119     1306119  ffffd48fb36b63db010c   \n",
       "1306120     1306120  ffffec519fa37cf60c78   \n",
       "1306121     1306121  ffffed09fedb5088744a   \n",
       "\n",
       "                                             question_text  target  \n",
       "0        how did quebec nationalists see their province...       0  \n",
       "1        do you have an adopted dog how would you encou...       0  \n",
       "2        why does velocity affect time does velocity af...       0  \n",
       "3        how did otto von guericke used the magdeburg h...       0  \n",
       "4        can i convert montra helicon d to a mountain b...       0  \n",
       "...                                                    ...     ...  \n",
       "1306117  what other technical skills do you need as a c...       0  \n",
       "1306118  does ms in ece have good job prospects in usa ...       0  \n",
       "1306119                           is foam insulation toxic       0  \n",
       "1306120  how can one start a research project based on ...       0  \n",
       "1306121  who wins in a battle between a wolverine and a...       0  \n",
       "\n",
       "[1306122 rows x 4 columns]>"
      ]
     },
     "execution_count": 122,
     "metadata": {},
     "output_type": "execute_result"
    }
   ],
   "source": [
    "# Check Data Ranges \n",
    "# A. Numeric\n",
    "df.describe"
   ]
  },
  {
   "cell_type": "code",
   "execution_count": 123,
   "id": "3508b568",
   "metadata": {},
   "outputs": [
    {
     "data": {
      "text/html": [
       "<div>\n",
       "<style scoped>\n",
       "    .dataframe tbody tr th:only-of-type {\n",
       "        vertical-align: middle;\n",
       "    }\n",
       "\n",
       "    .dataframe tbody tr th {\n",
       "        vertical-align: top;\n",
       "    }\n",
       "\n",
       "    .dataframe thead th {\n",
       "        text-align: right;\n",
       "    }\n",
       "</style>\n",
       "<table border=\"1\" class=\"dataframe\">\n",
       "  <thead>\n",
       "    <tr style=\"text-align: right;\">\n",
       "      <th></th>\n",
       "      <th>qid</th>\n",
       "      <th>question_text</th>\n",
       "    </tr>\n",
       "  </thead>\n",
       "  <tbody>\n",
       "    <tr>\n",
       "      <th>count</th>\n",
       "      <td>1306122</td>\n",
       "      <td>1306121</td>\n",
       "    </tr>\n",
       "    <tr>\n",
       "      <th>unique</th>\n",
       "      <td>1306122</td>\n",
       "      <td>1304736</td>\n",
       "    </tr>\n",
       "    <tr>\n",
       "      <th>top</th>\n",
       "      <td>00002165364db923c7e6</td>\n",
       "      <td>what is</td>\n",
       "    </tr>\n",
       "    <tr>\n",
       "      <th>freq</th>\n",
       "      <td>1</td>\n",
       "      <td>129</td>\n",
       "    </tr>\n",
       "  </tbody>\n",
       "</table>\n",
       "</div>"
      ],
      "text/plain": [
       "                         qid question_text\n",
       "count                1306122       1306121\n",
       "unique               1306122       1304736\n",
       "top     00002165364db923c7e6      what is \n",
       "freq                       1           129"
      ]
     },
     "execution_count": 123,
     "metadata": {},
     "output_type": "execute_result"
    }
   ],
   "source": [
    "# A. Categoricals\n",
    "round(df.describe(exclude = \"number\"))"
   ]
  },
  {
   "cell_type": "code",
   "execution_count": 32,
   "id": "6bf975e8",
   "metadata": {},
   "outputs": [
    {
     "data": {
      "text/html": [
       "<div>\n",
       "<style scoped>\n",
       "    .dataframe tbody tr th:only-of-type {\n",
       "        vertical-align: middle;\n",
       "    }\n",
       "\n",
       "    .dataframe tbody tr th {\n",
       "        vertical-align: top;\n",
       "    }\n",
       "\n",
       "    .dataframe thead th {\n",
       "        text-align: right;\n",
       "    }\n",
       "</style>\n",
       "<table border=\"1\" class=\"dataframe\">\n",
       "  <thead>\n",
       "    <tr style=\"text-align: right;\">\n",
       "      <th></th>\n",
       "      <th>Unnamed: 0</th>\n",
       "      <th>qid</th>\n",
       "      <th>question_text</th>\n",
       "      <th>target</th>\n",
       "      <th>qtype</th>\n",
       "    </tr>\n",
       "  </thead>\n",
       "  <tbody>\n",
       "    <tr>\n",
       "      <th>0</th>\n",
       "      <td>0</td>\n",
       "      <td>00002165364db923c7e6</td>\n",
       "      <td>how did quebec nationalists see their province...</td>\n",
       "      <td>0</td>\n",
       "      <td>sincere</td>\n",
       "    </tr>\n",
       "    <tr>\n",
       "      <th>1</th>\n",
       "      <td>1</td>\n",
       "      <td>000032939017120e6e44</td>\n",
       "      <td>do you have an adopted dog how would you encou...</td>\n",
       "      <td>0</td>\n",
       "      <td>sincere</td>\n",
       "    </tr>\n",
       "    <tr>\n",
       "      <th>2</th>\n",
       "      <td>2</td>\n",
       "      <td>0000412ca6e4628ce2cf</td>\n",
       "      <td>why does velocity affect time does velocity af...</td>\n",
       "      <td>0</td>\n",
       "      <td>sincere</td>\n",
       "    </tr>\n",
       "    <tr>\n",
       "      <th>3</th>\n",
       "      <td>3</td>\n",
       "      <td>000042bf85aa498cd78e</td>\n",
       "      <td>how did otto von guericke used the magdeburg h...</td>\n",
       "      <td>0</td>\n",
       "      <td>sincere</td>\n",
       "    </tr>\n",
       "    <tr>\n",
       "      <th>4</th>\n",
       "      <td>4</td>\n",
       "      <td>0000455dfa3e01eae3af</td>\n",
       "      <td>can i convert montra helicon d to a mountain b...</td>\n",
       "      <td>0</td>\n",
       "      <td>sincere</td>\n",
       "    </tr>\n",
       "  </tbody>\n",
       "</table>\n",
       "</div>"
      ],
      "text/plain": [
       "   Unnamed: 0                   qid  \\\n",
       "0           0  00002165364db923c7e6   \n",
       "1           1  000032939017120e6e44   \n",
       "2           2  0000412ca6e4628ce2cf   \n",
       "3           3  000042bf85aa498cd78e   \n",
       "4           4  0000455dfa3e01eae3af   \n",
       "\n",
       "                                       question_text  target    qtype  \n",
       "0  how did quebec nationalists see their province...       0  sincere  \n",
       "1  do you have an adopted dog how would you encou...       0  sincere  \n",
       "2  why does velocity affect time does velocity af...       0  sincere  \n",
       "3  how did otto von guericke used the magdeburg h...       0  sincere  \n",
       "4  can i convert montra helicon d to a mountain b...       0  sincere  "
      ]
     },
     "execution_count": 32,
     "metadata": {},
     "output_type": "execute_result"
    }
   ],
   "source": [
    "# add a new column\n",
    "null_data['qtype'] = np.where(null_data['target'] == 1, 'insincere', 'sincere')\n",
    "null_data.head()"
   ]
  },
  {
   "cell_type": "code",
   "execution_count": 34,
   "id": "36463fa5",
   "metadata": {},
   "outputs": [
    {
     "data": {
      "text/html": [
       "<div>\n",
       "<style scoped>\n",
       "    .dataframe tbody tr th:only-of-type {\n",
       "        vertical-align: middle;\n",
       "    }\n",
       "\n",
       "    .dataframe tbody tr th {\n",
       "        vertical-align: top;\n",
       "    }\n",
       "\n",
       "    .dataframe thead th {\n",
       "        text-align: right;\n",
       "    }\n",
       "</style>\n",
       "<table border=\"1\" class=\"dataframe\">\n",
       "  <thead>\n",
       "    <tr style=\"text-align: right;\">\n",
       "      <th></th>\n",
       "      <th>question_text</th>\n",
       "      <th>qtype</th>\n",
       "    </tr>\n",
       "  </thead>\n",
       "  <tbody>\n",
       "    <tr>\n",
       "      <th>0</th>\n",
       "      <td>how did quebec nationalists see their province...</td>\n",
       "      <td>sincere</td>\n",
       "    </tr>\n",
       "    <tr>\n",
       "      <th>1</th>\n",
       "      <td>do you have an adopted dog how would you encou...</td>\n",
       "      <td>sincere</td>\n",
       "    </tr>\n",
       "    <tr>\n",
       "      <th>2</th>\n",
       "      <td>why does velocity affect time does velocity af...</td>\n",
       "      <td>sincere</td>\n",
       "    </tr>\n",
       "    <tr>\n",
       "      <th>3</th>\n",
       "      <td>how did otto von guericke used the magdeburg h...</td>\n",
       "      <td>sincere</td>\n",
       "    </tr>\n",
       "    <tr>\n",
       "      <th>4</th>\n",
       "      <td>can i convert montra helicon d to a mountain b...</td>\n",
       "      <td>sincere</td>\n",
       "    </tr>\n",
       "  </tbody>\n",
       "</table>\n",
       "</div>"
      ],
      "text/plain": [
       "                                       question_text    qtype\n",
       "0  how did quebec nationalists see their province...  sincere\n",
       "1  do you have an adopted dog how would you encou...  sincere\n",
       "2  why does velocity affect time does velocity af...  sincere\n",
       "3  how did otto von guericke used the magdeburg h...  sincere\n",
       "4  can i convert montra helicon d to a mountain b...  sincere"
      ]
     },
     "execution_count": 34,
     "metadata": {},
     "output_type": "execute_result"
    }
   ],
   "source": [
    "# Include only the quetion text and question type\n",
    "null_data1 = null_data[['question_text', 'qtype']]\n",
    "null_data1.head()"
   ]
  },
  {
   "cell_type": "code",
   "execution_count": 22,
   "id": "1be2886b",
   "metadata": {},
   "outputs": [
    {
     "data": {
      "text/plain": [
       "sincere      0.938131\n",
       "insincere    0.061869\n",
       "Name: qtype, dtype: float64"
      ]
     },
     "execution_count": 22,
     "metadata": {},
     "output_type": "execute_result"
    }
   ],
   "source": [
    "# the dataset has mostly sincere questions\n",
    "null_data.qtype.value_counts(normalize=True)"
   ]
  },
  {
   "cell_type": "code",
   "execution_count": 35,
   "id": "ae4ec4d7",
   "metadata": {},
   "outputs": [
    {
     "name": "stderr",
     "output_type": "stream",
     "text": [
      "C:\\Users\\hmalm\\AppData\\Local\\Temp/ipykernel_10036/529856106.py:9: SettingWithCopyWarning: \n",
      "A value is trying to be set on a copy of a slice from a DataFrame.\n",
      "Try using .loc[row_indexer,col_indexer] = value instead\n",
      "\n",
      "See the caveats in the documentation: https://pandas.pydata.org/pandas-docs/stable/user_guide/indexing.html#returning-a-view-versus-a-copy\n",
      "  null_data1['question_text'] = null_data1.question_text.map(alphanumeric).map(punc_lower)\n"
     ]
    },
    {
     "data": {
      "text/html": [
       "<div>\n",
       "<style scoped>\n",
       "    .dataframe tbody tr th:only-of-type {\n",
       "        vertical-align: middle;\n",
       "    }\n",
       "\n",
       "    .dataframe tbody tr th {\n",
       "        vertical-align: top;\n",
       "    }\n",
       "\n",
       "    .dataframe thead th {\n",
       "        text-align: right;\n",
       "    }\n",
       "</style>\n",
       "<table border=\"1\" class=\"dataframe\">\n",
       "  <thead>\n",
       "    <tr style=\"text-align: right;\">\n",
       "      <th></th>\n",
       "      <th>question_text</th>\n",
       "      <th>qtype</th>\n",
       "    </tr>\n",
       "  </thead>\n",
       "  <tbody>\n",
       "    <tr>\n",
       "      <th>0</th>\n",
       "      <td>how did quebec nationalists see their province...</td>\n",
       "      <td>sincere</td>\n",
       "    </tr>\n",
       "    <tr>\n",
       "      <th>1</th>\n",
       "      <td>do you have an adopted dog how would you encou...</td>\n",
       "      <td>sincere</td>\n",
       "    </tr>\n",
       "    <tr>\n",
       "      <th>2</th>\n",
       "      <td>why does velocity affect time does velocity af...</td>\n",
       "      <td>sincere</td>\n",
       "    </tr>\n",
       "    <tr>\n",
       "      <th>3</th>\n",
       "      <td>how did otto von guericke used the magdeburg h...</td>\n",
       "      <td>sincere</td>\n",
       "    </tr>\n",
       "    <tr>\n",
       "      <th>4</th>\n",
       "      <td>can i convert montra helicon d to a mountain b...</td>\n",
       "      <td>sincere</td>\n",
       "    </tr>\n",
       "  </tbody>\n",
       "</table>\n",
       "</div>"
      ],
      "text/plain": [
       "                                       question_text    qtype\n",
       "0  how did quebec nationalists see their province...  sincere\n",
       "1  do you have an adopted dog how would you encou...  sincere\n",
       "2  why does velocity affect time does velocity af...  sincere\n",
       "3  how did otto von guericke used the magdeburg h...  sincere\n",
       "4  can i convert montra helicon d to a mountain b...  sincere"
      ]
     },
     "execution_count": 35,
     "metadata": {},
     "output_type": "execute_result"
    }
   ],
   "source": [
    "# Text preprocessing steps - remove numbers, captial letters and punctuation\n",
    "import re\n",
    "import string\n",
    "\n",
    "# Keep only Letters & remove numbers \n",
    "alphanumeric = lambda x: re.sub('\\w*\\d\\w*', ' ', x)\n",
    "\n",
    "# Remove special characters/punct & make all lower\n",
    "punc_lower = lambda x: re.sub('[%s]' % re.escape(string.punctuation), ' ', x.lower())\n",
    "\n",
    "# Remove special characters/punct & make all lower\n",
    "null_data1['question_text'] = null_data1.question_text.map(alphanumeric).map(punc_lower)\n",
    "null_data1.head()"
   ]
  },
  {
   "cell_type": "code",
   "execution_count": 127,
   "id": "089df92c",
   "metadata": {},
   "outputs": [
    {
     "name": "stderr",
     "output_type": "stream",
     "text": [
      "[nltk_data] Downloading package stopwords to\n",
      "[nltk_data]     C:\\Users\\hmalm\\AppData\\Roaming\\nltk_data...\n",
      "[nltk_data]   Package stopwords is already up-to-date!\n"
     ]
    },
    {
     "data": {
      "text/plain": [
       "True"
      ]
     },
     "execution_count": 127,
     "metadata": {},
     "output_type": "execute_result"
    }
   ],
   "source": [
    "import nltk\n",
    "nltk.download('stopwords')"
   ]
  },
  {
   "cell_type": "code",
   "execution_count": 128,
   "id": "6c7abf57",
   "metadata": {},
   "outputs": [
    {
     "name": "stderr",
     "output_type": "stream",
     "text": [
      "[nltk_data] Downloading package punkt to\n",
      "[nltk_data]     C:\\Users\\hmalm\\AppData\\Roaming\\nltk_data...\n",
      "[nltk_data]   Package punkt is already up-to-date!\n"
     ]
    },
    {
     "data": {
      "text/plain": [
       "True"
      ]
     },
     "execution_count": 128,
     "metadata": {},
     "output_type": "execute_result"
    }
   ],
   "source": [
    " nltk.download('punkt')"
   ]
  },
  {
   "cell_type": "code",
   "execution_count": 41,
   "id": "58b57a84",
   "metadata": {},
   "outputs": [],
   "source": [
    "from nltk.corpus import stopwords\n",
    "from nltk.tokenize import word_tokenize\n",
    "english = stopwords.words('english')"
   ]
  },
  {
   "cell_type": "code",
   "execution_count": 42,
   "id": "01c33fc5",
   "metadata": {},
   "outputs": [],
   "source": [
    "# remove stop words from question_text column\n",
    "temp = null_data1.copy()\n",
    "temp.question_text =temp['question_text'].apply(word_tokenize) \n",
    "temp.question_text = temp.question_text.apply(lambda words: [word for word in words if word not in english])"
   ]
  },
  {
   "cell_type": "code",
   "execution_count": 43,
   "id": "05fc5fc6",
   "metadata": {},
   "outputs": [
    {
     "data": {
      "text/html": [
       "<div>\n",
       "<style scoped>\n",
       "    .dataframe tbody tr th:only-of-type {\n",
       "        vertical-align: middle;\n",
       "    }\n",
       "\n",
       "    .dataframe tbody tr th {\n",
       "        vertical-align: top;\n",
       "    }\n",
       "\n",
       "    .dataframe thead th {\n",
       "        text-align: right;\n",
       "    }\n",
       "</style>\n",
       "<table border=\"1\" class=\"dataframe\">\n",
       "  <thead>\n",
       "    <tr style=\"text-align: right;\">\n",
       "      <th></th>\n",
       "      <th>question_text</th>\n",
       "      <th>qtype</th>\n",
       "    </tr>\n",
       "  </thead>\n",
       "  <tbody>\n",
       "    <tr>\n",
       "      <th>0</th>\n",
       "      <td>[quebec, nationalists, see, province, nation]</td>\n",
       "      <td>sincere</td>\n",
       "    </tr>\n",
       "    <tr>\n",
       "      <th>1</th>\n",
       "      <td>[adopted, dog, would, encourage, people, adopt...</td>\n",
       "      <td>sincere</td>\n",
       "    </tr>\n",
       "    <tr>\n",
       "      <th>2</th>\n",
       "      <td>[velocity, affect, time, velocity, affect, spa...</td>\n",
       "      <td>sincere</td>\n",
       "    </tr>\n",
       "    <tr>\n",
       "      <th>3</th>\n",
       "      <td>[otto, von, guericke, used, magdeburg, hemisph...</td>\n",
       "      <td>sincere</td>\n",
       "    </tr>\n",
       "    <tr>\n",
       "      <th>4</th>\n",
       "      <td>[convert, montra, helicon, mountain, bike, cha...</td>\n",
       "      <td>sincere</td>\n",
       "    </tr>\n",
       "    <tr>\n",
       "      <th>...</th>\n",
       "      <td>...</td>\n",
       "      <td>...</td>\n",
       "    </tr>\n",
       "    <tr>\n",
       "      <th>1306117</th>\n",
       "      <td>[technical, skills, need, computer, science, u...</td>\n",
       "      <td>sincere</td>\n",
       "    </tr>\n",
       "    <tr>\n",
       "      <th>1306118</th>\n",
       "      <td>[ms, ece, good, job, prospects, usa, like, ind...</td>\n",
       "      <td>sincere</td>\n",
       "    </tr>\n",
       "    <tr>\n",
       "      <th>1306119</th>\n",
       "      <td>[foam, insulation, toxic]</td>\n",
       "      <td>sincere</td>\n",
       "    </tr>\n",
       "    <tr>\n",
       "      <th>1306120</th>\n",
       "      <td>[one, start, research, project, based, biochem...</td>\n",
       "      <td>sincere</td>\n",
       "    </tr>\n",
       "    <tr>\n",
       "      <th>1306121</th>\n",
       "      <td>[wins, battle, wolverine, puma]</td>\n",
       "      <td>sincere</td>\n",
       "    </tr>\n",
       "  </tbody>\n",
       "</table>\n",
       "<p>1306121 rows × 2 columns</p>\n",
       "</div>"
      ],
      "text/plain": [
       "                                             question_text    qtype\n",
       "0            [quebec, nationalists, see, province, nation]  sincere\n",
       "1        [adopted, dog, would, encourage, people, adopt...  sincere\n",
       "2        [velocity, affect, time, velocity, affect, spa...  sincere\n",
       "3        [otto, von, guericke, used, magdeburg, hemisph...  sincere\n",
       "4        [convert, montra, helicon, mountain, bike, cha...  sincere\n",
       "...                                                    ...      ...\n",
       "1306117  [technical, skills, need, computer, science, u...  sincere\n",
       "1306118  [ms, ece, good, job, prospects, usa, like, ind...  sincere\n",
       "1306119                          [foam, insulation, toxic]  sincere\n",
       "1306120  [one, start, research, project, based, biochem...  sincere\n",
       "1306121                    [wins, battle, wolverine, puma]  sincere\n",
       "\n",
       "[1306121 rows x 2 columns]"
      ]
     },
     "execution_count": 43,
     "metadata": {},
     "output_type": "execute_result"
    }
   ],
   "source": [
    "temp"
   ]
  },
  {
   "cell_type": "markdown",
   "id": "4660d598",
   "metadata": {},
   "source": [
    "# B. Columns\n",
    "- Remove white spaces "
   ]
  },
  {
   "cell_type": "code",
   "execution_count": 44,
   "id": "6fc3f28d",
   "metadata": {},
   "outputs": [],
   "source": [
    "# remove spaces\n",
    "temp.columns = temp.columns.str.strip()"
   ]
  },
  {
   "cell_type": "code",
   "execution_count": 45,
   "id": "74138ae5",
   "metadata": {},
   "outputs": [
    {
     "data": {
      "text/html": [
       "<div>\n",
       "<style scoped>\n",
       "    .dataframe tbody tr th:only-of-type {\n",
       "        vertical-align: middle;\n",
       "    }\n",
       "\n",
       "    .dataframe tbody tr th {\n",
       "        vertical-align: top;\n",
       "    }\n",
       "\n",
       "    .dataframe thead th {\n",
       "        text-align: right;\n",
       "    }\n",
       "</style>\n",
       "<table border=\"1\" class=\"dataframe\">\n",
       "  <thead>\n",
       "    <tr style=\"text-align: right;\">\n",
       "      <th></th>\n",
       "      <th>question_text</th>\n",
       "      <th>qtype</th>\n",
       "    </tr>\n",
       "  </thead>\n",
       "  <tbody>\n",
       "    <tr>\n",
       "      <th>0</th>\n",
       "      <td>[quebec, nationalists, see, province, nation]</td>\n",
       "      <td>sincere</td>\n",
       "    </tr>\n",
       "  </tbody>\n",
       "</table>\n",
       "</div>"
      ],
      "text/plain": [
       "                                   question_text    qtype\n",
       "0  [quebec, nationalists, see, province, nation]  sincere"
      ]
     },
     "execution_count": 45,
     "metadata": {},
     "output_type": "execute_result"
    }
   ],
   "source": [
    "temp.head(1)"
   ]
  },
  {
   "cell_type": "markdown",
   "id": "d2333734",
   "metadata": {},
   "source": [
    "# Step 3: Explore Data (EDA)"
   ]
  },
  {
   "cell_type": "code",
   "execution_count": 46,
   "id": "0cb1ed04",
   "metadata": {
    "scrolled": true
   },
   "outputs": [
    {
     "data": {
      "image/png": "[encoded data removed]",
      "text/plain": [
       "<Figure size 360x360 with 1 Axes>"
      ]
     },
     "metadata": {},
     "output_type": "display_data"
    }
   ],
   "source": [
    "# Check Target --> target (balanced or not??)\n",
    "sns.set_theme(style='whitegrid', palette = \"PuBuGn_r\")\n",
    "sns.catplot(x='qtype', data= temp, kind='count');"
   ]
  },
  {
   "cell_type": "markdown",
   "id": "3b6fed3d",
   "metadata": {},
   "source": [
    "### Based on the graph above it shows that sincere questions is much more than insincere questions, so it is unbalanced."
   ]
  },
  {
   "cell_type": "code",
   "execution_count": null,
   "id": "2eade759",
   "metadata": {},
   "outputs": [],
   "source": []
  }
 ],
 "metadata": {
  "kernelspec": {
   "display_name": "Python 3 (ipykernel)",
   "language": "python",
   "name": "python3"
  },
  "language_info": {
   "codemirror_mode": {
    "name": "ipython",
    "version": 3
   },
   "file_extension": ".py",
   "mimetype": "text/x-python",
   "name": "python",
   "nbconvert_exporter": "python",
   "pygments_lexer": "ipython3",
   "version": "3.9.7"
  }
 },
 "nbformat": 4,
 "nbformat_minor": 5
}
